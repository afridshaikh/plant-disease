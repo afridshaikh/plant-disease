{
 "cells": [
  {
   "cell_type": "code",
   "execution_count": 1,
   "metadata": {},
   "outputs": [],
   "source": [
    "import tensorflow as tf\n",
    "import glob\n",
    "import matplotlib.pyplot as plt"
   ]
  },
  {
   "cell_type": "code",
   "execution_count": 2,
   "metadata": {},
   "outputs": [],
   "source": [
    "import os\n",
    "# Importing Keras libraries and packages\n",
    "from tensorflow.keras.models import Sequential\n",
    "from tensorflow.keras.layers import Convolution2D\n",
    "from tensorflow.keras.layers import MaxPooling2D\n",
    "from tensorflow.keras.layers import Flatten\n",
    "from tensorflow.keras.layers import Dense\n",
    "from tensorflow.keras.layers import Dropout\n",
    "# import tensorflow.keras.layers.BatchNormalization\n"
   ]
  },
  {
   "cell_type": "code",
   "execution_count": 3,
   "metadata": {},
   "outputs": [],
   "source": [
    "# from tensorflow.keras.layers import BatchNormalization"
   ]
  },
  {
   "cell_type": "code",
   "execution_count": null,
   "metadata": {},
   "outputs": [],
   "source": []
  },
  {
   "cell_type": "code",
   "execution_count": 5,
   "metadata": {},
   "outputs": [],
   "source": [
    "\n",
    "# Initializing the CNN\n",
    "classifier = Sequential()\n",
    "\n",
    "# Convolution Step 1\n",
    "classifier.add(Convolution2D(96, 5, strides = (4, 4), padding = 'valid', input_shape=(128, 128, 3), activation = 'relu'))\n",
    "\n",
    "# Max Pooling Step 1\n",
    "classifier.add(MaxPooling2D(pool_size = (2, 2), strides = (2, 2), padding = 'valid'))\n",
    "# classifier.add(BatchNormalization())\n",
    "\n",
    "# Convolution Step 2\n",
    "classifier.add(Convolution2D(256, 5, strides = (1, 1), padding='valid', activation = 'relu'))\n",
    "\n",
    "# Max Pooling Step 2\n",
    "classifier.add(MaxPooling2D(pool_size = (2, 2), strides = (2, 2), padding='valid'))\n",
    "# classifier.add(BatchNormalization())\n",
    "\n",
    "# Convolution Step 3\n",
    "classifier.add(Convolution2D(384, 2, strides = (1, 1), padding='valid', activation = 'relu'))\n",
    "# classifier.add(BatchNormalization())\n",
    "\n",
    "# Convolution Step 4\n",
    "classifier.add(Convolution2D(384, 2, strides = (1, 1), padding='valid', activation = 'relu'))\n",
    "# classifier.add(BatchNormalization())\n",
    "\n",
    "# Convolution Step 5\n",
    "classifier.add(Convolution2D(256, 2, strides=(1,1), padding='valid', activation = 'relu'))\n",
    "\n",
    "# Max Pooling Step 3\n",
    "classifier.add(MaxPooling2D(pool_size = (2, 2), strides = (2, 2), padding = 'valid'))\n",
    "# classifier.add(BatchNormalization())\n",
    "\n",
    "# Flattening Step\n",
    "classifier.add(Flatten())\n",
    "\n",
    "# Full Connection Step\n",
    "classifier.add(Dense(units = 4096, activation = 'relu'))\n",
    "classifier.add(Dropout(0.4))\n",
    "# classifier.add(BatchNormalization())\n",
    "classifier.add(Dense(units = 4096, activation = 'relu'))\n",
    "classifier.add(Dropout(0.4))\n",
    "# classifier.add(BatchNormalization())\n",
    "classifier.add(Dense(units = 1000, activation = 'relu'))\n",
    "classifier.add(Dropout(0.2))\n",
    "# classifier.add(BatchNormalization())\n",
    "classifier.add(Dense(units = 38, activation = 'softmax'))\n",
    "# classifier.summary()"
   ]
  },
  {
   "cell_type": "code",
   "execution_count": 6,
   "metadata": {},
   "outputs": [],
   "source": [
    "glob.glob('dataset/train/*/*')\n",
    "path = 'dataset/train\\\\Apple___Apple_scab\\\\00075aa8-d81a-4184-8541-b692b78d398a___FREC_Scab 3335.JPG'"
   ]
  },
  {
   "cell_type": "code",
   "execution_count": 7,
   "metadata": {},
   "outputs": [],
   "source": [
    "# image = tf.io.read_file(path)\n",
    "# image_array = tf.image.decode_jpeg(image)"
   ]
  },
  {
   "cell_type": "code",
   "execution_count": 17,
   "metadata": {},
   "outputs": [],
   "source": [
    "BATCH_SIZE = 50\n",
    "EPOCHS = 30\n",
    "IMG_HEIGHT = 128\n",
    "IMG_WIDTH = 128\n",
    "# CLASS_NAMES = [i.split('\\\\')[1] for i in glob.glob('dataset/train/*')]"
   ]
  },
  {
   "cell_type": "code",
   "execution_count": 18,
   "metadata": {},
   "outputs": [],
   "source": [
    "image_generator = tf.keras.preprocessing.image.ImageDataGenerator(1./255)"
   ]
  },
  {
   "cell_type": "code",
   "execution_count": null,
   "metadata": {},
   "outputs": [],
   "source": []
  },
  {
   "cell_type": "code",
   "execution_count": 19,
   "metadata": {},
   "outputs": [
    {
     "name": "stdout",
     "output_type": "stream",
     "text": [
      "Found 70295 images belonging to 38 classes.\n"
     ]
    }
   ],
   "source": [
    "train_data_gen = image_generator.flow_from_directory(directory='dataset/train',\n",
    "                                                     batch_size=BATCH_SIZE,\n",
    "                                                     shuffle=True,\n",
    "                                                     seed=123,\n",
    "                                                     class_mode='sparse',\n",
    "                                                     target_size=(IMG_HEIGHT, IMG_WIDTH))"
   ]
  },
  {
   "cell_type": "code",
   "execution_count": 20,
   "metadata": {},
   "outputs": [
    {
     "name": "stdout",
     "output_type": "stream",
     "text": [
      "Found 17572 images belonging to 38 classes.\n"
     ]
    }
   ],
   "source": [
    "validation_data_gen = image_generator.flow_from_directory(directory='dataset/valid',\n",
    "                                                     batch_size=BATCH_SIZE,\n",
    "                                                     shuffle=True,\n",
    "                                                     seed=123,\n",
    "                                                     class_mode='sparse',\n",
    "                                                     target_size=(IMG_HEIGHT, IMG_WIDTH))"
   ]
  },
  {
   "cell_type": "code",
   "execution_count": 21,
   "metadata": {},
   "outputs": [],
   "source": [
    "classifier.compile(optimizer='adam', loss='sparse_categorical_crossentropy', metrics=['accuracy'])"
   ]
  },
  {
   "cell_type": "code",
   "execution_count": 22,
   "metadata": {},
   "outputs": [],
   "source": [
    "checkpoint_path = \"training_1/cp.ckpt\"\n",
    "checkpoint_dir = os.path.dirname(checkpoint_path)\n",
    "cp_callback = tf.keras.callbacks.ModelCheckpoint(filepath=checkpoint_path,\n",
    "                                                 save_weights_only=True,\n",
    "                                                 verbose=1)"
   ]
  },
  {
   "cell_type": "code",
   "execution_count": null,
   "metadata": {},
   "outputs": [
    {
     "name": "stdout",
     "output_type": "stream",
     "text": [
      "Train for 1406 steps, validate for 352 steps\n",
      "Epoch 1/30\n"
     ]
    },
    {
     "name": "stderr",
     "output_type": "stream",
     "text": [
      "c:\\python\\lib\\site-packages\\keras_preprocessing\\image\\image_data_generator.py:716: UserWarning: This ImageDataGenerator specifies `featurewise_center`, but it hasn't been fit on any training data. Fit it first by calling `.fit(numpy_data)`.\n",
      "  warnings.warn('This ImageDataGenerator specifies '\n"
     ]
    },
    {
     "name": "stdout",
     "output_type": "stream",
     "text": [
      "1405/1406 [============================>.] - ETA: 0s - loss: 0.0917 - accuracy: 0.9692\n",
      "Epoch 00001: saving model to training_1/cp.ckpt\n",
      "1406/1406 [==============================] - 281s 200ms/step - loss: 0.0917 - accuracy: 0.9692 - val_loss: 0.2687 - val_accuracy: 0.9266\n",
      "Epoch 2/30\n",
      "1405/1406 [============================>.] - ETA: 0s - loss: 0.0749 - accuracy: 0.9760\n",
      "Epoch 00002: saving model to training_1/cp.ckpt\n",
      "1406/1406 [==============================] - 278s 198ms/step - loss: 0.0750 - accuracy: 0.9760 - val_loss: 1.3051 - val_accuracy: 0.7721\n",
      "Epoch 3/30\n"
     ]
    }
   ],
   "source": [
    "classifier.fit(train_data_gen, validation_data=validation_data_gen, epochs=EPOCHS, callbacks=[cp_callback])"
   ]
  },
  {
   "cell_type": "code",
   "execution_count": 15,
   "metadata": {},
   "outputs": [
    {
     "data": {
      "text/plain": [
       "<matplotlib.legend.Legend at 0x2e409a4b2b0>"
      ]
     },
     "execution_count": 15,
     "metadata": {},
     "output_type": "execute_result"
    },
    {
     "data": {
      "image/png": "[encoded data removed]",
      "text/plain": [
       "<Figure size 432x288 with 1 Axes>"
      ]
     },
     "metadata": {
      "needs_background": "light"
     },
     "output_type": "display_data"
    }
   ],
   "source": [
    "plt.plot(classifier.history.__dict__['history']['loss'], color='b', label=\"train_loss\")\n",
    "plt.plot(classifier.history.__dict__['history']['val_loss'], color='r', label=\"val_loss\")\n",
    "plt.title(\"Loss\")\n",
    "plt.legend()"
   ]
  },
  {
   "cell_type": "code",
   "execution_count": 16,
   "metadata": {},
   "outputs": [
    {
     "data": {
      "text/plain": [
       "<matplotlib.legend.Legend at 0x2e409acbef0>"
      ]
     },
     "execution_count": 16,
     "metadata": {},
     "output_type": "execute_result"
    },
    {
     "data": {
      "image/png": "[encoded data removed]",
      "text/plain": [
       "<Figure size 432x288 with 1 Axes>"
      ]
     },
     "metadata": {
      "needs_background": "light"
     },
     "output_type": "display_data"
    }
   ],
   "source": [
    "plt.plot(classifier.history.__dict__['history']['accuracy'], color='b', label=\"train_accuracy\")\n",
    "plt.plot(classifier.history.__dict__['history']['val_accuracy'], color='r', label=\"val_accuracy\")\n",
    "plt.title(\"Accuracy\")\n",
    "plt.legend()"
   ]
  },
  {
   "cell_type": "code",
   "execution_count": 16,
   "metadata": {},
   "outputs": [],
   "source": [
    "# classifier.predict()"
   ]
  },
  {
   "cell_type": "code",
   "execution_count": 22,
   "metadata": {},
   "outputs": [],
   "source": [
    "classes = {}\n",
    "for k in train_data_gen.class_indices.keys():\n",
    "    classes[train_data_gen.class_indices[k]] = k"
   ]
  },
  {
   "cell_type": "code",
   "execution_count": 77,
   "metadata": {},
   "outputs": [],
   "source": [
    "image = r'C:\\afrid\\Backup\\Practise\\Python\\Plant Disease\\dataset\\test\\test\\CornCommonRust2.jpg'\n",
    "image = tf.io.read_file(image)\n",
    "image_array = tf.image.decode_jpeg(image)\n",
    "image_array = tf.image.resize(image_array, (128,128))"
   ]
  },
  {
   "cell_type": "code",
   "execution_count": 78,
   "metadata": {},
   "outputs": [],
   "source": [
    "# classifier.predict(image_array.numpy().reshape((1,128,128,3)))"
   ]
  },
  {
   "cell_type": "code",
   "execution_count": 79,
   "metadata": {},
   "outputs": [
    {
     "data": {
      "text/plain": [
       "8"
      ]
     },
     "execution_count": 79,
     "metadata": {},
     "output_type": "execute_result"
    }
   ],
   "source": [
    "class_index = classifier.predict_classes(image_array.numpy().reshape((1,128,128,3)))[0]\n",
    "class_index"
   ]
  },
  {
   "cell_type": "code",
   "execution_count": 80,
   "metadata": {},
   "outputs": [
    {
     "data": {
      "text/plain": [
       "'Corn_(maize)___Common_rust_'"
      ]
     },
     "execution_count": 80,
     "metadata": {},
     "output_type": "execute_result"
    }
   ],
   "source": [
    "classes[class_index]"
   ]
  },
  {
   "cell_type": "code",
   "execution_count": 52,
   "metadata": {},
   "outputs": [],
   "source": [
    "# classifier.save('trained_model_20epochs.h5')"
   ]
  },
  {
   "cell_type": "code",
   "execution_count": 33,
   "metadata": {},
   "outputs": [],
   "source": [
    "# classifier.save_weights('trained_model_weights_20epochs')"
   ]
  },
  {
   "cell_type": "code",
   "execution_count": null,
   "metadata": {},
   "outputs": [],
   "source": []
  }
 ],
 "metadata": {
  "kernelspec": {
   "display_name": "Python 3",
   "language": "python",
   "name": "python3"
  },
  "language_info": {
   "codemirror_mode": {
    "name": "ipython",
    "version": 3
   },
   "file_extension": ".py",
   "mimetype": "text/x-python",
   "name": "python",
   "nbconvert_exporter": "python",
   "pygments_lexer": "ipython3",
   "version": "3.6.8"
  }
 },
 "nbformat": 4,
 "nbformat_minor": 2
}
